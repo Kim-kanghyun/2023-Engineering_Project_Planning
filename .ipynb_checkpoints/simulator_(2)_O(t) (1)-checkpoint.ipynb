{
 "cells": [
  {
   "cell_type": "code",
   "execution_count": 2,
   "id": "a66f4b7b",
   "metadata": {
    "colab": {
     "base_uri": "https://localhost:8080/"
    },
    "executionInfo": {
     "elapsed": 14137,
     "status": "ok",
     "timestamp": 1682839562487,
     "user": {
      "displayName": "김강현",
      "userId": "04365970014820709200"
     },
     "user_tz": -540
    },
    "id": "a66f4b7b",
    "outputId": "5c11b7b0-b5a9-42a5-ceca-d8ca00971e77"
   },
   "outputs": [
    {
     "name": "stdout",
     "output_type": "stream",
     "text": [
      "Looking in indexes: https://pypi.org/simple, https://us-python.pkg.dev/colab-wheels/public/simple/\n",
      "\u001b[31mERROR: Could not find a version that satisfies the requirement tensorflow==2.3.0 (from versions: 2.8.0rc0, 2.8.0rc1, 2.8.0, 2.8.1, 2.8.2, 2.8.3, 2.8.4, 2.9.0rc0, 2.9.0rc1, 2.9.0rc2, 2.9.0, 2.9.1, 2.9.2, 2.9.3, 2.10.0rc0, 2.10.0rc1, 2.10.0rc2, 2.10.0rc3, 2.10.0, 2.10.1, 2.11.0rc0, 2.11.0rc1, 2.11.0rc2, 2.11.0, 2.11.1, 2.12.0rc0, 2.12.0rc1, 2.12.0)\u001b[0m\u001b[31m\n",
      "\u001b[0m\u001b[31mERROR: No matching distribution found for tensorflow==2.3.0\u001b[0m\u001b[31m\n",
      "\u001b[0mLooking in indexes: https://pypi.org/simple, https://us-python.pkg.dev/colab-wheels/public/simple/\n",
      "Requirement already satisfied: gym in /usr/local/lib/python3.10/dist-packages (0.25.2)\n",
      "Requirement already satisfied: gym-notices>=0.0.4 in /usr/local/lib/python3.10/dist-packages (from gym) (0.0.8)\n",
      "Requirement already satisfied: cloudpickle>=1.2.0 in /usr/local/lib/python3.10/dist-packages (from gym) (2.2.1)\n",
      "Requirement already satisfied: numpy>=1.18.0 in /usr/local/lib/python3.10/dist-packages (from gym) (1.22.4)\n",
      "Looking in indexes: https://pypi.org/simple, https://us-python.pkg.dev/colab-wheels/public/simple/\n",
      "Requirement already satisfied: keras in /usr/local/lib/python3.10/dist-packages (2.12.0)\n",
      "Looking in indexes: https://pypi.org/simple, https://us-python.pkg.dev/colab-wheels/public/simple/\n",
      "Requirement already satisfied: keras-rl2 in /usr/local/lib/python3.10/dist-packages (1.0.5)\n",
      "Requirement already satisfied: tensorflow in /usr/local/lib/python3.10/dist-packages (from keras-rl2) (2.12.0)\n",
      "Requirement already satisfied: opt-einsum>=2.3.2 in /usr/local/lib/python3.10/dist-packages (from tensorflow->keras-rl2) (3.3.0)\n",
      "Requirement already satisfied: gast<=0.4.0,>=0.2.1 in /usr/local/lib/python3.10/dist-packages (from tensorflow->keras-rl2) (0.4.0)\n",
      "Requirement already satisfied: packaging in /usr/local/lib/python3.10/dist-packages (from tensorflow->keras-rl2) (23.1)\n",
      "Requirement already satisfied: wrapt<1.15,>=1.11.0 in /usr/local/lib/python3.10/dist-packages (from tensorflow->keras-rl2) (1.14.1)\n",
      "Requirement already satisfied: protobuf!=4.21.0,!=4.21.1,!=4.21.2,!=4.21.3,!=4.21.4,!=4.21.5,<5.0.0dev,>=3.20.3 in /usr/local/lib/python3.10/dist-packages (from tensorflow->keras-rl2) (3.20.3)\n",
      "Requirement already satisfied: numpy<1.24,>=1.22 in /usr/local/lib/python3.10/dist-packages (from tensorflow->keras-rl2) (1.22.4)\n",
      "Requirement already satisfied: jax>=0.3.15 in /usr/local/lib/python3.10/dist-packages (from tensorflow->keras-rl2) (0.4.8)\n",
      "Requirement already satisfied: typing-extensions>=3.6.6 in /usr/local/lib/python3.10/dist-packages (from tensorflow->keras-rl2) (4.5.0)\n",
      "Requirement already satisfied: tensorflow-estimator<2.13,>=2.12.0 in /usr/local/lib/python3.10/dist-packages (from tensorflow->keras-rl2) (2.12.0)\n",
      "Requirement already satisfied: absl-py>=1.0.0 in /usr/local/lib/python3.10/dist-packages (from tensorflow->keras-rl2) (1.4.0)\n",
      "Requirement already satisfied: setuptools in /usr/local/lib/python3.10/dist-packages (from tensorflow->keras-rl2) (67.7.2)\n",
      "Requirement already satisfied: termcolor>=1.1.0 in /usr/local/lib/python3.10/dist-packages (from tensorflow->keras-rl2) (2.3.0)\n",
      "Requirement already satisfied: google-pasta>=0.1.1 in /usr/local/lib/python3.10/dist-packages (from tensorflow->keras-rl2) (0.2.0)\n",
      "Requirement already satisfied: astunparse>=1.6.0 in /usr/local/lib/python3.10/dist-packages (from tensorflow->keras-rl2) (1.6.3)\n",
      "Requirement already satisfied: flatbuffers>=2.0 in /usr/local/lib/python3.10/dist-packages (from tensorflow->keras-rl2) (23.3.3)\n",
      "Requirement already satisfied: tensorflow-io-gcs-filesystem>=0.23.1 in /usr/local/lib/python3.10/dist-packages (from tensorflow->keras-rl2) (0.32.0)\n",
      "Requirement already satisfied: tensorboard<2.13,>=2.12 in /usr/local/lib/python3.10/dist-packages (from tensorflow->keras-rl2) (2.12.2)\n",
      "Requirement already satisfied: libclang>=13.0.0 in /usr/local/lib/python3.10/dist-packages (from tensorflow->keras-rl2) (16.0.0)\n",
      "Requirement already satisfied: six>=1.12.0 in /usr/local/lib/python3.10/dist-packages (from tensorflow->keras-rl2) (1.16.0)\n",
      "Requirement already satisfied: grpcio<2.0,>=1.24.3 in /usr/local/lib/python3.10/dist-packages (from tensorflow->keras-rl2) (1.54.0)\n",
      "Requirement already satisfied: h5py>=2.9.0 in /usr/local/lib/python3.10/dist-packages (from tensorflow->keras-rl2) (3.8.0)\n",
      "Requirement already satisfied: keras<2.13,>=2.12.0 in /usr/local/lib/python3.10/dist-packages (from tensorflow->keras-rl2) (2.12.0)\n",
      "Requirement already satisfied: wheel<1.0,>=0.23.0 in /usr/local/lib/python3.10/dist-packages (from astunparse>=1.6.0->tensorflow->keras-rl2) (0.40.0)\n",
      "Requirement already satisfied: ml-dtypes>=0.0.3 in /usr/local/lib/python3.10/dist-packages (from jax>=0.3.15->tensorflow->keras-rl2) (0.1.0)\n",
      "Requirement already satisfied: scipy>=1.7 in /usr/local/lib/python3.10/dist-packages (from jax>=0.3.15->tensorflow->keras-rl2) (1.10.1)\n",
      "Requirement already satisfied: requests<3,>=2.21.0 in /usr/local/lib/python3.10/dist-packages (from tensorboard<2.13,>=2.12->tensorflow->keras-rl2) (2.27.1)\n",
      "Requirement already satisfied: google-auth<3,>=1.6.3 in /usr/local/lib/python3.10/dist-packages (from tensorboard<2.13,>=2.12->tensorflow->keras-rl2) (2.17.3)\n",
      "Requirement already satisfied: werkzeug>=1.0.1 in /usr/local/lib/python3.10/dist-packages (from tensorboard<2.13,>=2.12->tensorflow->keras-rl2) (2.3.0)\n",
      "Requirement already satisfied: tensorboard-data-server<0.8.0,>=0.7.0 in /usr/local/lib/python3.10/dist-packages (from tensorboard<2.13,>=2.12->tensorflow->keras-rl2) (0.7.0)\n",
      "Requirement already satisfied: markdown>=2.6.8 in /usr/local/lib/python3.10/dist-packages (from tensorboard<2.13,>=2.12->tensorflow->keras-rl2) (3.4.3)\n",
      "Requirement already satisfied: google-auth-oauthlib<1.1,>=0.5 in /usr/local/lib/python3.10/dist-packages (from tensorboard<2.13,>=2.12->tensorflow->keras-rl2) (1.0.0)\n",
      "Requirement already satisfied: tensorboard-plugin-wit>=1.6.0 in /usr/local/lib/python3.10/dist-packages (from tensorboard<2.13,>=2.12->tensorflow->keras-rl2) (1.8.1)\n",
      "Requirement already satisfied: cachetools<6.0,>=2.0.0 in /usr/local/lib/python3.10/dist-packages (from google-auth<3,>=1.6.3->tensorboard<2.13,>=2.12->tensorflow->keras-rl2) (5.3.0)\n",
      "Requirement already satisfied: rsa<5,>=3.1.4 in /usr/local/lib/python3.10/dist-packages (from google-auth<3,>=1.6.3->tensorboard<2.13,>=2.12->tensorflow->keras-rl2) (4.9)\n",
      "Requirement already satisfied: pyasn1-modules>=0.2.1 in /usr/local/lib/python3.10/dist-packages (from google-auth<3,>=1.6.3->tensorboard<2.13,>=2.12->tensorflow->keras-rl2) (0.3.0)\n",
      "Requirement already satisfied: requests-oauthlib>=0.7.0 in /usr/local/lib/python3.10/dist-packages (from google-auth-oauthlib<1.1,>=0.5->tensorboard<2.13,>=2.12->tensorflow->keras-rl2) (1.3.1)\n",
      "Requirement already satisfied: certifi>=2017.4.17 in /usr/local/lib/python3.10/dist-packages (from requests<3,>=2.21.0->tensorboard<2.13,>=2.12->tensorflow->keras-rl2) (2022.12.7)\n",
      "Requirement already satisfied: idna<4,>=2.5 in /usr/local/lib/python3.10/dist-packages (from requests<3,>=2.21.0->tensorboard<2.13,>=2.12->tensorflow->keras-rl2) (3.4)\n",
      "Requirement already satisfied: urllib3<1.27,>=1.21.1 in /usr/local/lib/python3.10/dist-packages (from requests<3,>=2.21.0->tensorboard<2.13,>=2.12->tensorflow->keras-rl2) (1.26.15)\n",
      "Requirement already satisfied: charset-normalizer~=2.0.0 in /usr/local/lib/python3.10/dist-packages (from requests<3,>=2.21.0->tensorboard<2.13,>=2.12->tensorflow->keras-rl2) (2.0.12)\n",
      "Requirement already satisfied: MarkupSafe>=2.1.1 in /usr/local/lib/python3.10/dist-packages (from werkzeug>=1.0.1->tensorboard<2.13,>=2.12->tensorflow->keras-rl2) (2.1.2)\n",
      "Requirement already satisfied: pyasn1<0.6.0,>=0.4.6 in /usr/local/lib/python3.10/dist-packages (from pyasn1-modules>=0.2.1->google-auth<3,>=1.6.3->tensorboard<2.13,>=2.12->tensorflow->keras-rl2) (0.5.0)\n",
      "Requirement already satisfied: oauthlib>=3.0.0 in /usr/local/lib/python3.10/dist-packages (from requests-oauthlib>=0.7.0->google-auth-oauthlib<1.1,>=0.5->tensorboard<2.13,>=2.12->tensorflow->keras-rl2) (3.2.2)\n"
     ]
    }
   ],
   "source": [
    "!pip install tensorflow==2.3.0\n",
    "!pip install gym\n",
    "!pip install keras\n",
    "!pip install keras-rl2"
   ]
  },
  {
   "cell_type": "code",
   "execution_count": 3,
   "id": "1HMwq-smm9Qp",
   "metadata": {
    "executionInfo": {
     "elapsed": 6,
     "status": "ok",
     "timestamp": 1682839562488,
     "user": {
      "displayName": "김강현",
      "userId": "04365970014820709200"
     },
     "user_tz": -540
    },
    "id": "1HMwq-smm9Qp"
   },
   "outputs": [],
   "source": [
    "#SIMULATOR BY 안의근"
   ]
  },
  {
   "cell_type": "code",
   "execution_count": 4,
   "id": "e578f513",
   "metadata": {
    "executionInfo": {
     "elapsed": 402,
     "status": "ok",
     "timestamp": 1682839562886,
     "user": {
      "displayName": "김강현",
      "userId": "04365970014820709200"
     },
     "user_tz": -540
    },
    "id": "e578f513"
   },
   "outputs": [],
   "source": [
    "from gym import Env\n",
    "from gym.spaces import Discrete, Box\n",
    "import numpy as np\n",
    "import random\n",
    "import gym"
   ]
  },
  {
   "cell_type": "markdown",
   "id": "uVmQKjO-SPNd",
   "metadata": {
    "id": "uVmQKjO-SPNd"
   },
   "source": [
    "편의점 방문 빈도 수에 따른 문 여닫는 이벤트를 푸아송 분포로 나타낸 식\n",
    "O(t) = Poisson(λ(t))\n",
    "이제 주어진 시간대별 평균 문 여닫는 이벤트의 수를 나타내는 λ(t)를 사용하여 파이썬 코드로 구현해 보았음.\n",
    "시간대별로 냉장고 문 여닫는 이벤트 발생 횟수의 평균인 λ(t)를 설정\n",
    "이 값들은 임의로 설정된 것이며 실제 사용 상황에 맞추어 조정이 필요"
   ]
  },
  {
   "cell_type": "code",
   "execution_count": 5,
   "id": "lE5PKVvYW3Kc",
   "metadata": {
    "colab": {
     "base_uri": "https://localhost:8080/"
    },
    "executionInfo": {
     "elapsed": 3,
     "status": "ok",
     "timestamp": 1682839563160,
     "user": {
      "displayName": "김강현",
      "userId": "04365970014820709200"
     },
     "user_tz": -540
    },
    "id": "lE5PKVvYW3Kc",
    "outputId": "844c0301-4966-414b-c3c4-4ca8bff623d8"
   },
   "outputs": [
    {
     "name": "stderr",
     "output_type": "stream",
     "text": [
      "/usr/local/lib/python3.10/dist-packages/ipykernel/ipkernel.py:283: DeprecationWarning: `should_run_async` will not call `transform_cell` automatically in the future. Please pass the result to `transformed_cell` argument and any exception that happen during thetransform in `preprocessing_exc_tuple` in IPython 7.17 and above.\n",
      "  and should_run_async(code)\n"
     ]
    }
   ],
   "source": [
    "# Example of time-varying lambda (average number of door openings per hour)\n",
    "lambda_t = np.array([1, 0.5, 0.2, 0.1, 0.1, 0.2, 1, 2, 3, 2, 1.5, 1, 1, 1, 1.5, 2, 3, 4, 5, 4, 3, 2, 1, 0.5])"
   ]
  },
  {
   "cell_type": "markdown",
   "id": "VEkvFfjXSu7G",
   "metadata": {
    "id": "VEkvFfjXSu7G"
   },
   "source": [
    "이 함수는 시간대별 냉장고 문 여닫는 이벤트를 푸아송 분포를 사용하여 계산. 함수는 람다 값들의 리스트인 lambda_t와 냉장고의 길이(초)인 refri_length를 인수로 받음.\n",
    " 함수는 시간대별로 푸아송 분포에서 샘플링된 이벤트의 수를 저장하는 리스트를 반환."
   ]
  },
  {
   "cell_type": "code",
   "execution_count": 10,
   "id": "51ip0ZShW9N8",
   "metadata": {
    "executionInfo": {
     "elapsed": 384,
     "status": "ok",
     "timestamp": 1682839652351,
     "user": {
      "displayName": "김강현",
      "userId": "04365970014820709200"
     },
     "user_tz": -540
    },
    "id": "51ip0ZShW9N8"
   },
   "outputs": [],
   "source": [
    "# def door_opening_event_hourly(lambda_t, t_max):\n",
    "#     event_count = np.random.poisson(lambda_t, (t_max // 3600) + 1)\n",
    "#     hourly_event_count = np.repeat(event_count, 3600)[:t_max]\n",
    "#     return hourly_event_count"
   ]
  },
  {
   "cell_type": "markdown",
   "id": "cfc384f4",
   "metadata": {
    "id": "cfc384f4"
   },
   "source": [
    "처음의 CustomActionSpace 클래스는 custom action class이다. 현재는 기존의 방식인 Discrete를 이용하여 구현했지만 이것이 의도한대로 작동하지 않을 경우를 위해 미리 작성해 둔 class이다.\n",
    "이는 내가 원하는 임의의 정수들을 action으로 지정하여 그것을 sampling하여 반환하도록 할 수 있고 이 action class 또한 step() 함수의 action 인자로 사용할 수 있다. contain함수는 주어진 action이 Custom action space에 속하는지 여부를 반환하는 함수이다.\n",
    "\n",
    "현재 구현되어 있는 action_space는 mapping을 이용하여 구현해 두었다. 알아본 결과 Discrete는 연속하는 정수만을 담을 수 있고, 내가 원하는 임의의 불연속적인 정수를 담는 것이 불가능하다. 그래서 일단 Discrete를 이용하여 4개의 action_space를 구현하고 그 action space에 내가 원하는 정수(우리는 온도를 의미)를 mapping하여 action_space를 내가 원하는 value로 변환하도록 구현되었다. 이 방법을 사용하려면 action 대신 action_to_value로 바꾸어 호출하면 된다.\n",
    "-> 나중에 모든 코드가 구현되고 나서 확인이 필요할 듯 하다."
   ]
  },
  {
   "cell_type": "code",
   "execution_count": 11,
   "id": "3537be27",
   "metadata": {
    "executionInfo": {
     "elapsed": 257,
     "status": "ok",
     "timestamp": 1682839654413,
     "user": {
      "displayName": "김강현",
      "userId": "04365970014820709200"
     },
     "user_tz": -540
    },
    "id": "3537be27"
   },
   "outputs": [],
   "source": [
    "class CustomActionSpace(gym.Space):\n",
    "    def __init__(self):\n",
    "        self.action_space = Discrete(4)\n",
    "        self.action_values = [-5, 0, 5, 10]\n",
    "\n",
    "    def sample(self):\n",
    "        return self.action_values[self.action_space.sample()]\n",
    "    \n",
    "    def contains(self, x):\n",
    "        return x in self.action_values"
   ]
  },
  {
   "cell_type": "markdown",
   "id": "9jZ9UE7iY57W",
   "metadata": {
    "id": "9jZ9UE7iY57W"
   },
   "source": [
    "RefriEnv 클래스의 reset 메소드를 수정함. 여기서 door_opening_event_hourly 함수를 호출하여 시간대별 문 여닫는 이벤트 수를 계산하고, 이를 self.hourly_event_count 속성에 저장. 이 속성은 환경이 초기화될 때마다 업데이트됨."
   ]
  },
  {
   "cell_type": "code",
   "execution_count": 20,
   "id": "5b3c6cde",
   "metadata": {
    "executionInfo": {
     "elapsed": 462,
     "status": "ok",
     "timestamp": 1682839881412,
     "user": {
      "displayName": "김강현",
      "userId": "04365970014820709200"
     },
     "user_tz": -540
    },
    "id": "5b3c6cde"
   },
   "outputs": [],
   "source": [
    "class RefriEnv(Env):\n",
    "    def __init__(self):\n",
    "        #action space\n",
    "        custom_action_space = Discrete(4)\n",
    "        self.action_space = custom_action_space\n",
    "        # The real values are that mapping the action value\n",
    "        # 0 to 3 is mapping the -5,0,5,10\n",
    "        self.action_to_value = {0: -5, 1: 0, 2: 5, 3: 10}\n",
    "        # Temperature array\n",
    "        self.observation_space = Box(low=np.array([-50]), high=np.array([50]))\n",
    "        # Set start temp\n",
    "        self.state = 0 + random.randint(-3,3)\n",
    "        # Set refrigerator length\n",
    "        self.refri_length = 60\n",
    "\n",
    "         # O(t)에 관한 코드\n",
    "        # self.hourly_event_count = door_opening_event_hourly(lambda_t, self.refri_length)\n",
    "\n",
    "    #transform the action to value\n",
    "    def map_action_to_value(self, action):\n",
    "        return self.action_to_value[action]\n",
    "        \n",
    "    #transform the value to action\n",
    "    def map_value_to_action(self, value):\n",
    "        for action, val in self.action_to_value.items():\n",
    "            if val == value:\n",
    "                return action\n",
    "        raise ValueError(\"Invalid value: {}\".format(value))\n",
    "\n",
    "    #RefriEnv 클래스의 step 메소드를 수정했음. \n",
    "    #이 메소드에서 시간대별 문 여닫는 이벤트 수를 고려하여 냉장고의 온도가 업데이트되는 방식을 변경함. \n",
    "    #먼저, 현재 시간대에서 발생하는 이벤트 수를 계산하고, 이 값을 O(t)로 사용\n",
    "    def step(self, action):\n",
    "        # 냉장고의 현재 시간대 계산 //(O(t)에 관한 코드)\n",
    "        #self.refri_length는 냉장고의 에피소드 길이가 몇 초 남았는지를 나타내는 변수\n",
    "        #에피소드가 진행될수록 self.refri_length 값이 감소하며, 0이 되면 에피소드가 종료\n",
    "        current_hour = (self.refri_length - 1) // 3600\n",
    "\n",
    "        # 현재 시간대에 대한 문 여닫는 이벤트 수//(O(t)에 관한 코드)\n",
    "        #self.hourly_event_count는 시간대별 문 여닫는 이벤트 수를 저장하는 리스트\n",
    "        #current_hour 인덱스를 사용하여 현재 시간대에 해당하는 문 여닫는 이벤트 수를 가져옵니다. 이 값을 변수 O에 저장\n",
    "        # O = self.hourly_event_count[current_hour]\n",
    "\n",
    "        P_max=5\n",
    "        T_set=0\n",
    "        y=self.state\n",
    "        delta=3\n",
    "\n",
    "        #P_max 최대 냉각 성능, delta 최대 냉각시 온도와 냉각하지 않는 온도차,\n",
    "        P_cool = P_max / (1 + np.exp(-(y - T_set)/delta))\n",
    "\n",
    "        E=0.5\n",
    "        U=0.2\n",
    "        A=4\n",
    "        T_ext= 20\n",
    "        h=0.2\n",
    "        m=50\n",
    "        c=3\n",
    "        U_o=2\n",
    "\n",
    "        # Apply action\n",
    "        #평소의 상황\n",
    "        if(self.state>action):\n",
    "            self.state += (-P_cool*E-U*A*(self.state-T_ext)+U_o*A*(T_ext-self.state))/(m*c)\n",
    "        else:\n",
    "            self.state += (-U*A*(self.state-T_ext)+U_o*A*(T_ext-self.state))/(m*c)\n",
    "        \n",
    "        # Reduce refrigerator length by 1 second\n",
    "        self.refri_length -= 1 \n",
    "        \n",
    "\n",
    "\n",
    "        P_power = P_cool/E\n",
    "        \n",
    "\n",
    "        # Calculate reward\n",
    "        if self.state>action: \n",
    "            reward = -10\n",
    "            \n",
    "              \n",
    "        else: \n",
    "            reward= -(self.state-action)\n",
    "            \n",
    "        reward -= P_power\n",
    "          # Check if episode is done\n",
    "        if self.refri_length <= 0: \n",
    "            done = True\n",
    "        else:\n",
    "            done = False\n",
    "        \n",
    "        # Apply temperature noise\n",
    "        #self.state += random.randint(-1,1)\n",
    "        # Set placeholder for info\n",
    "        info = {}\n",
    "        \n",
    "        # Return step information\n",
    "        return self.state, reward, done, info\n",
    "\n",
    "    def render(self):\n",
    "        # Implement viz\n",
    "        pass\n",
    "    \n",
    "    def reset(self):\n",
    "        # Reset refrigerator temperature\n",
    "        self.state = 0 + random.randint(-3,3)\n",
    "        # Reset refrigerator time\n",
    "        self.refri_length = 60 \n",
    "        return self.state"
   ]
  },
  {
   "cell_type": "code",
   "execution_count": 21,
   "id": "54e996c2",
   "metadata": {
    "colab": {
     "base_uri": "https://localhost:8080/"
    },
    "executionInfo": {
     "elapsed": 269,
     "status": "ok",
     "timestamp": 1682839884683,
     "user": {
      "displayName": "김강현",
      "userId": "04365970014820709200"
     },
     "user_tz": -540
    },
    "id": "54e996c2",
    "outputId": "43e370d8-269c-4db2-8da7-36db0288c00e"
   },
   "outputs": [
    {
     "name": "stderr",
     "output_type": "stream",
     "text": [
      "/usr/local/lib/python3.10/dist-packages/gym/spaces/box.py:128: UserWarning: \u001b[33mWARN: Box bound precision lowered by casting to float32\u001b[0m\n",
      "  logger.warn(f\"Box bound precision lowered by casting to {self.dtype}\")\n"
     ]
    }
   ],
   "source": [
    "env = RefriEnv()"
   ]
  },
  {
   "cell_type": "code",
   "execution_count": 22,
   "id": "2cd02b88",
   "metadata": {
    "colab": {
     "base_uri": "https://localhost:8080/"
    },
    "executionInfo": {
     "elapsed": 251,
     "status": "ok",
     "timestamp": 1682839886737,
     "user": {
      "displayName": "김강현",
      "userId": "04365970014820709200"
     },
     "user_tz": -540
    },
    "id": "2cd02b88",
    "outputId": "b2d76b84-cfca-415c-aa86-41c6f7a4118a"
   },
   "outputs": [
    {
     "data": {
      "text/plain": [
       "array([-18.240381], dtype=float32)"
      ]
     },
     "execution_count": 22,
     "metadata": {},
     "output_type": "execute_result"
    }
   ],
   "source": [
    "env.observation_space.sample()"
   ]
  },
  {
   "cell_type": "code",
   "execution_count": 23,
   "id": "6a7cecae",
   "metadata": {
    "colab": {
     "base_uri": "https://localhost:8080/"
    },
    "executionInfo": {
     "elapsed": 266,
     "status": "ok",
     "timestamp": 1682839888301,
     "user": {
      "displayName": "김강현",
      "userId": "04365970014820709200"
     },
     "user_tz": -540
    },
    "id": "6a7cecae",
    "outputId": "521f134d-70df-419c-fc8b-f35b146cc151"
   },
   "outputs": [
    {
     "name": "stdout",
     "output_type": "stream",
     "text": [
      "Episode:1 Score:-1168.0096829482789\n",
      "Episode:2 Score:-1113.9412676592435\n",
      "Episode:3 Score:-1185.8961020731695\n",
      "Episode:4 Score:-1120.9970160363666\n",
      "Episode:5 Score:-1182.6855413361345\n",
      "Episode:6 Score:-1129.1387088396418\n",
      "Episode:7 Score:-1178.8614523712768\n",
      "Episode:8 Score:-1185.92607473862\n",
      "Episode:9 Score:-1174.574212578818\n",
      "Episode:10 Score:-1178.8950162816125\n"
     ]
    }
   ],
   "source": [
    "episodes = 10\n",
    "for episode in range(1, episodes+1):\n",
    "    state = env.reset()\n",
    "    done = False\n",
    "    score = 0 \n",
    "    \n",
    "    while not done:\n",
    "        #env.render()\n",
    "        action = env.action_space.sample()\n",
    "        n_state, reward, done, info = env.step(action)\n",
    "        \n",
    "        score+=reward\n",
    "    print('Episode:{} Score:{}'.format(episode, score))"
   ]
  },
  {
   "cell_type": "code",
   "execution_count": 30,
   "id": "zsqvYpHJEwAZ",
   "metadata": {
    "colab": {
     "base_uri": "https://localhost:8080/",
     "height": 587
    },
    "executionInfo": {
     "elapsed": 541,
     "status": "ok",
     "timestamp": 1682839982836,
     "user": {
      "displayName": "김강현",
      "userId": "04365970014820709200"
     },
     "user_tz": -540
    },
    "id": "zsqvYpHJEwAZ",
    "outputId": "8d9b2523-9580-4c98-eff9-d7c5b1c67a5a"
   },
   "outputs": [
    {
     "name": "stderr",
     "output_type": "stream",
     "text": [
      "<ipython-input-30-51f87e0682b6>:43: UserWarning: frames=None which we can infer the length of, did not pass an explicit *save_count* and passed cache_frame_data=True.  To avoid a possibly unbounded cache, frame data caching has been disabled. To suppress this warning either pass `cache_frame_data=False` or `save_count=MAX_FRAMES`.\n",
      "  ani = FuncAnimation(plt.gcf(), animate, interval = 100)\n",
      "/usr/local/lib/python3.10/dist-packages/matplotlib/animation.py:884: UserWarning: Animation was deleted without rendering anything. This is most likely not intended. To prevent deletion, assign the Animation to a variable, e.g. `anim`, that exists until you output the Animation using `plt.show()` or `anim.save()`.\n",
      "  warnings.warn(\n"
     ]
    },
    {
     "data": {
      "image/png": "[encoded data removed]",
      "text/plain": [
       "<Figure size 640x480 with 1 Axes>"
      ]
     },
     "metadata": {},
     "output_type": "display_data"
    },
    {
     "name": "stdout",
     "output_type": "stream",
     "text": [
      "Episode:1 Score:-19.983041558398085\n"
     ]
    }
   ],
   "source": [
    "import random\n",
    "from itertools import count\n",
    "import pandas as pd\n",
    "import matplotlib.pyplot as plt\n",
    "from matplotlib.animation import FuncAnimation\n",
    "\n",
    "episodes = 1\n",
    "for episode in range(1, episodes+1):\n",
    "    state = env.reset()\n",
    "    done = False\n",
    "    score = 0 \n",
    "    fig, ax = plt.subplots() \n",
    "    x_val = []\n",
    "    y_val1 = []\n",
    "    y_val2 = []\n",
    "    a=0\n",
    "    action1=[]\n",
    "    n_state1=[]\n",
    "\n",
    "    plt.style.use('fivethirtyeight')\n",
    "    while not done:\n",
    "        #env.render()\n",
    "        action = env.action_space.sample()\n",
    "        action1.append(action)\n",
    "        n_state, reward, done, info = env.step(action)\n",
    "        n_state1.append(n_state)\n",
    "        a=a+1\n",
    "        \n",
    "        \n",
    "    index=count()\n",
    "    def animate(i):\n",
    "            x_val.append(next(index))\n",
    "            y_val1.append(action1[i])\n",
    "            y_val2.append(n_state1[i])\n",
    "            plt.cla()\n",
    "            plt.plot(x_val, y_val1,label='action')\n",
    "            plt.plot(x_val, y_val2,label='state')\n",
    "\n",
    "            plt.legend(loc = 'upper left')\n",
    "            plt.tight_layout()\n",
    "            \n",
    "\n",
    "    ani = FuncAnimation(plt.gcf(), animate, interval = 100)\n",
    "    score+=reward\n",
    "    plt.tight_layout()\n",
    "    plt.show()  \n",
    "\n",
    "    \n",
    "\n",
    "    print('Episode:{} Score:{}'.format(episode, score))"
   ]
  },
  {
   "cell_type": "code",
   "execution_count": null,
   "id": "ee14e6ef",
   "metadata": {
    "id": "ee14e6ef"
   },
   "outputs": [],
   "source": [
    "import numpy as np\n",
    "from tensorflow.keras.models import Sequential\n",
    "from tensorflow.keras.layers import Dense, Flatten\n",
    "from tensorflow.keras.optimizers import Adam"
   ]
  },
  {
   "cell_type": "code",
   "execution_count": null,
   "id": "92c38fdf",
   "metadata": {
    "id": "92c38fdf"
   },
   "outputs": [],
   "source": [
    "states = env.observation_space.shape\n",
    "actions = env.action_space.n"
   ]
  },
  {
   "cell_type": "code",
   "execution_count": null,
   "id": "9d880ec1",
   "metadata": {
    "id": "9d880ec1",
    "outputId": "b7de799e-cf8e-4502-c1aa-d359a2a15c96"
   },
   "outputs": [
    {
     "data": {
      "text/plain": [
       "3"
      ]
     },
     "execution_count": 17,
     "metadata": {},
     "output_type": "execute_result"
    }
   ],
   "source": [
    "actions"
   ]
  },
  {
   "cell_type": "code",
   "execution_count": null,
   "id": "0d93cce6",
   "metadata": {
    "id": "0d93cce6"
   },
   "outputs": [],
   "source": [
    "def build_model(states, actions):\n",
    "    model = Sequential()    \n",
    "    model.add(Dense(24, activation='relu', input_shape=states))\n",
    "    model.add(Dense(24, activation='relu'))\n",
    "    model.add(Dense(actions, activation='linear'))\n",
    "    return model"
   ]
  },
  {
   "cell_type": "code",
   "execution_count": null,
   "id": "7b00498f",
   "metadata": {
    "id": "7b00498f"
   },
   "outputs": [],
   "source": [
    "model = build_model(states, actions)"
   ]
  },
  {
   "cell_type": "code",
   "execution_count": null,
   "id": "8dc70dbb",
   "metadata": {
    "id": "8dc70dbb",
    "outputId": "eb82bb64-1177-439b-f623-c55b21390b43"
   },
   "outputs": [
    {
     "name": "stdout",
     "output_type": "stream",
     "text": [
      "Model: \"sequential_1\"\n",
      "_________________________________________________________________\n",
      "Layer (type)                 Output Shape              Param #   \n",
      "=================================================================\n",
      "dense_3 (Dense)              (None, 24)                48        \n",
      "_________________________________________________________________\n",
      "dense_4 (Dense)              (None, 24)                600       \n",
      "_________________________________________________________________\n",
      "dense_5 (Dense)              (None, 3)                 75        \n",
      "=================================================================\n",
      "Total params: 723\n",
      "Trainable params: 723\n",
      "Non-trainable params: 0\n",
      "_________________________________________________________________\n"
     ]
    }
   ],
   "source": [
    "model.summary()"
   ]
  },
  {
   "cell_type": "code",
   "execution_count": null,
   "id": "6e1095c6",
   "metadata": {
    "id": "6e1095c6"
   },
   "outputs": [],
   "source": [
    "from rl.agents import DQNAgent\n",
    "from rl.policy import BoltzmannQPolicy\n",
    "from rl.memory import SequentialMemory"
   ]
  },
  {
   "cell_type": "code",
   "execution_count": null,
   "id": "c455d187",
   "metadata": {
    "id": "c455d187"
   },
   "outputs": [],
   "source": [
    "def build_agent(model, actions):\n",
    "    policy = BoltzmannQPolicy()\n",
    "    memory = SequentialMemory(limit=50000, window_length=1)\n",
    "    dqn = DQNAgent(model=model, memory=memory, policy=policy, \n",
    "                  nb_actions=actions, nb_steps_warmup=10, target_model_update=1e-2)\n",
    "    return dqn"
   ]
  },
  {
   "cell_type": "code",
   "execution_count": null,
   "id": "713a051d",
   "metadata": {
    "id": "713a051d"
   },
   "outputs": [],
   "source": []
  },
  {
   "cell_type": "code",
   "execution_count": null,
   "id": "0f1c0f2c",
   "metadata": {
    "id": "0f1c0f2c",
    "outputId": "fd0268a3-36e8-4cc5-b684-531d79fb3cbb"
   },
   "outputs": [
    {
     "name": "stdout",
     "output_type": "stream",
     "text": [
      "Training for 50000 steps ...\n",
      "Interval 1 (0 steps performed)\n",
      "    1/10000 [..............................] - ETA: 5:32 - reward: 1.0000"
     ]
    },
    {
     "name": "stderr",
     "output_type": "stream",
     "text": [
      "C:\\Users\\mink\\anaconda3\\envs\\openai\\lib\\site-packages\\keras\\engine\\training.py:2470: UserWarning: `Model.state_updates` will be removed in a future version. This property should not be used in TensorFlow 2.0, as `updates` are applied automatically.\n",
      "  warnings.warn('`Model.state_updates` will be removed in a future version. '\n",
      "C:\\Users\\mink\\anaconda3\\envs\\openai\\lib\\site-packages\\rl\\memory.py:37: UserWarning: Not enough entries to sample without replacement. Consider increasing your warm-up phase to avoid oversampling!\n",
      "  warnings.warn('Not enough entries to sample without replacement. Consider increasing your warm-up phase to avoid oversampling!')\n"
     ]
    },
    {
     "name": "stdout",
     "output_type": "stream",
     "text": [
      "10000/10000 [==============================] - 53s 5ms/step - reward: 0.7920\n",
      "166 episodes - episode_reward: 47.530 [-60.000, 60.000] - loss: 6.300 - mae: 16.624 - mean_q: 24.965\n",
      "\n",
      "Interval 2 (10000 steps performed)\n",
      "10000/10000 [==============================] - 53s 5ms/step - reward: 0.8532\n",
      "167 episodes - episode_reward: 51.150 [30.000, 60.000] - loss: 13.590 - mae: 27.390 - mean_q: 41.272\n",
      "\n",
      "Interval 3 (20000 steps performed)\n",
      "10000/10000 [==============================] - 55s 5ms/step - reward: 0.8736\n",
      "167 episodes - episode_reward: 52.431 [36.000, 60.000] - loss: 13.684 - mae: 27.458 - mean_q: 41.379\n",
      "\n",
      "Interval 4 (30000 steps performed)\n",
      "10000/10000 [==============================] - 57s 6ms/step - reward: 0.8814\n",
      "166 episodes - episode_reward: 52.952 [34.000, 60.000] - loss: 14.128 - mae: 27.794 - mean_q: 41.864\n",
      "\n",
      "Interval 5 (40000 steps performed)\n",
      "10000/10000 [==============================] - 59s 6ms/step - reward: 0.8598\n",
      "done, took 276.866 seconds\n"
     ]
    },
    {
     "data": {
      "text/plain": [
       "<keras.callbacks.History at 0x1128eb0a400>"
      ]
     },
     "execution_count": 35,
     "metadata": {},
     "output_type": "execute_result"
    }
   ],
   "source": [
    "dqn = build_agent(model, actions)\n",
    "dqn.compile(Adam(learning_rate=1e-3), metrics=['mae'])\n",
    "dqn.fit(env, nb_steps=50000, visualize=False, verbose=1)"
   ]
  },
  {
   "cell_type": "code",
   "execution_count": null,
   "id": "bfad9c3c",
   "metadata": {
    "id": "bfad9c3c",
    "outputId": "785c1772-7e2f-4cb4-86ac-421fa974cc69"
   },
   "outputs": [
    {
     "name": "stdout",
     "output_type": "stream",
     "text": [
      "Testing for 100 episodes ...\n",
      "Episode 1: reward: 60.000, steps: 60\n",
      "Episode 2: reward: 60.000, steps: 60\n",
      "Episode 3: reward: 54.000, steps: 60\n",
      "Episode 4: reward: 54.000, steps: 60\n",
      "Episode 5: reward: 58.000, steps: 60\n",
      "Episode 6: reward: 54.000, steps: 60\n",
      "Episode 7: reward: 60.000, steps: 60\n",
      "Episode 8: reward: 60.000, steps: 60\n",
      "Episode 9: reward: 54.000, steps: 60\n",
      "Episode 10: reward: 60.000, steps: 60\n",
      "Episode 11: reward: 60.000, steps: 60\n",
      "Episode 12: reward: 60.000, steps: 60\n",
      "Episode 13: reward: 56.000, steps: 60\n",
      "Episode 14: reward: 60.000, steps: 60\n",
      "Episode 15: reward: 56.000, steps: 60\n",
      "Episode 16: reward: 60.000, steps: 60\n",
      "Episode 17: reward: 54.000, steps: 60\n",
      "Episode 18: reward: 54.000, steps: 60\n",
      "Episode 19: reward: 58.000, steps: 60\n",
      "Episode 20: reward: 54.000, steps: 60\n",
      "Episode 21: reward: 58.000, steps: 60\n",
      "Episode 22: reward: 60.000, steps: 60\n",
      "Episode 23: reward: 60.000, steps: 60\n",
      "Episode 24: reward: 58.000, steps: 60\n",
      "Episode 25: reward: 60.000, steps: 60\n",
      "Episode 26: reward: 54.000, steps: 60\n",
      "Episode 27: reward: 54.000, steps: 60\n",
      "Episode 28: reward: 60.000, steps: 60\n",
      "Episode 29: reward: 60.000, steps: 60\n",
      "Episode 30: reward: 60.000, steps: 60\n",
      "Episode 31: reward: 60.000, steps: 60\n",
      "Episode 32: reward: 60.000, steps: 60\n",
      "Episode 33: reward: 54.000, steps: 60\n",
      "Episode 34: reward: 56.000, steps: 60\n",
      "Episode 35: reward: 58.000, steps: 60\n",
      "Episode 36: reward: 60.000, steps: 60\n",
      "Episode 37: reward: 60.000, steps: 60\n",
      "Episode 38: reward: 60.000, steps: 60\n",
      "Episode 39: reward: 60.000, steps: 60\n",
      "Episode 40: reward: 56.000, steps: 60\n",
      "Episode 41: reward: 60.000, steps: 60\n",
      "Episode 42: reward: 60.000, steps: 60\n",
      "Episode 43: reward: 60.000, steps: 60\n",
      "Episode 44: reward: 60.000, steps: 60\n",
      "Episode 45: reward: 58.000, steps: 60\n",
      "Episode 46: reward: 54.000, steps: 60\n",
      "Episode 47: reward: 56.000, steps: 60\n",
      "Episode 48: reward: 60.000, steps: 60\n",
      "Episode 49: reward: 54.000, steps: 60\n",
      "Episode 50: reward: 54.000, steps: 60\n",
      "Episode 51: reward: 60.000, steps: 60\n",
      "Episode 52: reward: 58.000, steps: 60\n",
      "Episode 53: reward: 60.000, steps: 60\n",
      "Episode 54: reward: 60.000, steps: 60\n",
      "Episode 55: reward: 60.000, steps: 60\n",
      "Episode 56: reward: 56.000, steps: 60\n",
      "Episode 57: reward: 60.000, steps: 60\n",
      "Episode 58: reward: 60.000, steps: 60\n",
      "Episode 59: reward: 58.000, steps: 60\n",
      "Episode 60: reward: 60.000, steps: 60\n",
      "Episode 61: reward: 54.000, steps: 60\n",
      "Episode 62: reward: 60.000, steps: 60\n",
      "Episode 63: reward: 56.000, steps: 60\n",
      "Episode 64: reward: 60.000, steps: 60\n",
      "Episode 65: reward: 60.000, steps: 60\n",
      "Episode 66: reward: 54.000, steps: 60\n",
      "Episode 67: reward: 56.000, steps: 60\n",
      "Episode 68: reward: 54.000, steps: 60\n",
      "Episode 69: reward: 60.000, steps: 60\n",
      "Episode 70: reward: 60.000, steps: 60\n",
      "Episode 71: reward: 56.000, steps: 60\n",
      "Episode 72: reward: 60.000, steps: 60\n",
      "Episode 73: reward: 58.000, steps: 60\n",
      "Episode 74: reward: 58.000, steps: 60\n",
      "Episode 75: reward: 54.000, steps: 60\n",
      "Episode 76: reward: 56.000, steps: 60\n",
      "Episode 77: reward: 58.000, steps: 60\n",
      "Episode 78: reward: 60.000, steps: 60\n",
      "Episode 79: reward: 54.000, steps: 60\n",
      "Episode 80: reward: 58.000, steps: 60\n",
      "Episode 81: reward: 54.000, steps: 60\n",
      "Episode 82: reward: 56.000, steps: 60\n",
      "Episode 83: reward: 60.000, steps: 60\n",
      "Episode 84: reward: 60.000, steps: 60\n",
      "Episode 85: reward: 60.000, steps: 60\n",
      "Episode 86: reward: 60.000, steps: 60\n",
      "Episode 87: reward: 60.000, steps: 60\n",
      "Episode 88: reward: 60.000, steps: 60\n",
      "Episode 89: reward: 60.000, steps: 60\n",
      "Episode 90: reward: 60.000, steps: 60\n",
      "Episode 91: reward: 54.000, steps: 60\n",
      "Episode 92: reward: 60.000, steps: 60\n",
      "Episode 93: reward: 60.000, steps: 60\n",
      "Episode 94: reward: 60.000, steps: 60\n",
      "Episode 95: reward: 58.000, steps: 60\n",
      "Episode 96: reward: 60.000, steps: 60\n",
      "Episode 97: reward: 54.000, steps: 60\n",
      "Episode 98: reward: 60.000, steps: 60\n",
      "Episode 99: reward: 58.000, steps: 60\n",
      "Episode 100: reward: 56.000, steps: 60\n",
      "57.98\n"
     ]
    }
   ],
   "source": [
    "scores = dqn.test(env, nb_episodes=100, visualize=False)\n",
    "print(np.mean(scores.history['episode_reward']))"
   ]
  },
  {
   "cell_type": "code",
   "execution_count": null,
   "id": "440f21b3",
   "metadata": {
    "id": "440f21b3",
    "outputId": "9f463bd6-8d4f-4073-fe68-5ddca2112153"
   },
   "outputs": [
    {
     "name": "stdout",
     "output_type": "stream",
     "text": [
      "Testing for 15 episodes ...\n"
     ]
    },
    {
     "ename": "TypeError",
     "evalue": "render() got an unexpected keyword argument 'mode'",
     "output_type": "error",
     "traceback": [
      "\u001b[1;31m---------------------------------------------------------------------------\u001b[0m",
      "\u001b[1;31mTypeError\u001b[0m                                 Traceback (most recent call last)",
      "\u001b[1;32m<ipython-input-37-f3237f5249b0>\u001b[0m in \u001b[0;36m<module>\u001b[1;34m\u001b[0m\n\u001b[1;32m----> 1\u001b[1;33m \u001b[0m_\u001b[0m \u001b[1;33m=\u001b[0m \u001b[0mdqn\u001b[0m\u001b[1;33m.\u001b[0m\u001b[0mtest\u001b[0m\u001b[1;33m(\u001b[0m\u001b[0menv\u001b[0m\u001b[1;33m,\u001b[0m \u001b[0mnb_episodes\u001b[0m\u001b[1;33m=\u001b[0m\u001b[1;36m15\u001b[0m\u001b[1;33m,\u001b[0m \u001b[0mvisualize\u001b[0m\u001b[1;33m=\u001b[0m\u001b[1;32mTrue\u001b[0m\u001b[1;33m)\u001b[0m\u001b[1;33m\u001b[0m\u001b[1;33m\u001b[0m\u001b[0m\n\u001b[0m",
      "\u001b[1;32m~\\anaconda3\\envs\\openai\\lib\\site-packages\\rl\\core.py\u001b[0m in \u001b[0;36mtest\u001b[1;34m(self, env, nb_episodes, action_repetition, callbacks, visualize, nb_max_episode_steps, nb_max_start_steps, start_step_policy, verbose)\u001b[0m\n\u001b[0;32m    350\u001b[0m                     \u001b[1;32mif\u001b[0m \u001b[0mself\u001b[0m\u001b[1;33m.\u001b[0m\u001b[0mprocessor\u001b[0m \u001b[1;32mis\u001b[0m \u001b[1;32mnot\u001b[0m \u001b[1;32mNone\u001b[0m\u001b[1;33m:\u001b[0m\u001b[1;33m\u001b[0m\u001b[1;33m\u001b[0m\u001b[0m\n\u001b[0;32m    351\u001b[0m                         \u001b[0mobservation\u001b[0m\u001b[1;33m,\u001b[0m \u001b[0mr\u001b[0m\u001b[1;33m,\u001b[0m \u001b[0md\u001b[0m\u001b[1;33m,\u001b[0m \u001b[0minfo\u001b[0m \u001b[1;33m=\u001b[0m \u001b[0mself\u001b[0m\u001b[1;33m.\u001b[0m\u001b[0mprocessor\u001b[0m\u001b[1;33m.\u001b[0m\u001b[0mprocess_step\u001b[0m\u001b[1;33m(\u001b[0m\u001b[0mobservation\u001b[0m\u001b[1;33m,\u001b[0m \u001b[0mr\u001b[0m\u001b[1;33m,\u001b[0m \u001b[0md\u001b[0m\u001b[1;33m,\u001b[0m \u001b[0minfo\u001b[0m\u001b[1;33m)\u001b[0m\u001b[1;33m\u001b[0m\u001b[1;33m\u001b[0m\u001b[0m\n\u001b[1;32m--> 352\u001b[1;33m                     \u001b[0mcallbacks\u001b[0m\u001b[1;33m.\u001b[0m\u001b[0mon_action_end\u001b[0m\u001b[1;33m(\u001b[0m\u001b[0maction\u001b[0m\u001b[1;33m)\u001b[0m\u001b[1;33m\u001b[0m\u001b[1;33m\u001b[0m\u001b[0m\n\u001b[0m\u001b[0;32m    353\u001b[0m                     \u001b[0mreward\u001b[0m \u001b[1;33m+=\u001b[0m \u001b[0mr\u001b[0m\u001b[1;33m\u001b[0m\u001b[1;33m\u001b[0m\u001b[0m\n\u001b[0;32m    354\u001b[0m                     \u001b[1;32mfor\u001b[0m \u001b[0mkey\u001b[0m\u001b[1;33m,\u001b[0m \u001b[0mvalue\u001b[0m \u001b[1;32min\u001b[0m \u001b[0minfo\u001b[0m\u001b[1;33m.\u001b[0m\u001b[0mitems\u001b[0m\u001b[1;33m(\u001b[0m\u001b[1;33m)\u001b[0m\u001b[1;33m:\u001b[0m\u001b[1;33m\u001b[0m\u001b[1;33m\u001b[0m\u001b[0m\n",
      "\u001b[1;32m~\\anaconda3\\envs\\openai\\lib\\site-packages\\rl\\callbacks.py\u001b[0m in \u001b[0;36mon_action_end\u001b[1;34m(self, action, logs)\u001b[0m\n\u001b[0;32m     96\u001b[0m         \u001b[1;32mfor\u001b[0m \u001b[0mcallback\u001b[0m \u001b[1;32min\u001b[0m \u001b[0mself\u001b[0m\u001b[1;33m.\u001b[0m\u001b[0mcallbacks\u001b[0m\u001b[1;33m:\u001b[0m\u001b[1;33m\u001b[0m\u001b[1;33m\u001b[0m\u001b[0m\n\u001b[0;32m     97\u001b[0m             \u001b[1;32mif\u001b[0m \u001b[0mcallable\u001b[0m\u001b[1;33m(\u001b[0m\u001b[0mgetattr\u001b[0m\u001b[1;33m(\u001b[0m\u001b[0mcallback\u001b[0m\u001b[1;33m,\u001b[0m \u001b[1;34m'on_action_end'\u001b[0m\u001b[1;33m,\u001b[0m \u001b[1;32mNone\u001b[0m\u001b[1;33m)\u001b[0m\u001b[1;33m)\u001b[0m\u001b[1;33m:\u001b[0m\u001b[1;33m\u001b[0m\u001b[1;33m\u001b[0m\u001b[0m\n\u001b[1;32m---> 98\u001b[1;33m                 \u001b[0mcallback\u001b[0m\u001b[1;33m.\u001b[0m\u001b[0mon_action_end\u001b[0m\u001b[1;33m(\u001b[0m\u001b[0maction\u001b[0m\u001b[1;33m,\u001b[0m \u001b[0mlogs\u001b[0m\u001b[1;33m=\u001b[0m\u001b[0mlogs\u001b[0m\u001b[1;33m)\u001b[0m\u001b[1;33m\u001b[0m\u001b[1;33m\u001b[0m\u001b[0m\n\u001b[0m\u001b[0;32m     99\u001b[0m \u001b[1;33m\u001b[0m\u001b[0m\n\u001b[0;32m    100\u001b[0m \u001b[1;33m\u001b[0m\u001b[0m\n",
      "\u001b[1;32m~\\anaconda3\\envs\\openai\\lib\\site-packages\\rl\\callbacks.py\u001b[0m in \u001b[0;36mon_action_end\u001b[1;34m(self, action, logs)\u001b[0m\n\u001b[0;32m    358\u001b[0m     \u001b[1;32mdef\u001b[0m \u001b[0mon_action_end\u001b[0m\u001b[1;33m(\u001b[0m\u001b[0mself\u001b[0m\u001b[1;33m,\u001b[0m \u001b[0maction\u001b[0m\u001b[1;33m,\u001b[0m \u001b[0mlogs\u001b[0m\u001b[1;33m)\u001b[0m\u001b[1;33m:\u001b[0m\u001b[1;33m\u001b[0m\u001b[1;33m\u001b[0m\u001b[0m\n\u001b[0;32m    359\u001b[0m         \u001b[1;34m\"\"\" Render environment at the end of each action \"\"\"\u001b[0m\u001b[1;33m\u001b[0m\u001b[1;33m\u001b[0m\u001b[0m\n\u001b[1;32m--> 360\u001b[1;33m         \u001b[0mself\u001b[0m\u001b[1;33m.\u001b[0m\u001b[0menv\u001b[0m\u001b[1;33m.\u001b[0m\u001b[0mrender\u001b[0m\u001b[1;33m(\u001b[0m\u001b[0mmode\u001b[0m\u001b[1;33m=\u001b[0m\u001b[1;34m'human'\u001b[0m\u001b[1;33m)\u001b[0m\u001b[1;33m\u001b[0m\u001b[1;33m\u001b[0m\u001b[0m\n\u001b[0m\u001b[0;32m    361\u001b[0m \u001b[1;33m\u001b[0m\u001b[0m\n\u001b[0;32m    362\u001b[0m \u001b[1;33m\u001b[0m\u001b[0m\n",
      "\u001b[1;31mTypeError\u001b[0m: render() got an unexpected keyword argument 'mode'"
     ]
    }
   ],
   "source": [
    "_ = dqn.test(env, nb_episodes=15, visualize=True)"
   ]
  },
  {
   "cell_type": "code",
   "execution_count": null,
   "id": "6c43fb7a",
   "metadata": {
    "id": "6c43fb7a"
   },
   "outputs": [],
   "source": []
  }
 ],
 "metadata": {
  "accelerator": "GPU",
  "colab": {
   "provenance": []
  },
  "gpuClass": "standard",
  "kernelspec": {
   "display_name": "Python 3 (ipykernel)",
   "language": "python",
   "name": "python3"
  },
  "language_info": {
   "codemirror_mode": {
    "name": "ipython",
    "version": 3
   },
   "file_extension": ".py",
   "mimetype": "text/x-python",
   "name": "python",
   "nbconvert_exporter": "python",
   "pygments_lexer": "ipython3",
   "version": "3.9.13"
  }
 },
 "nbformat": 4,
 "nbformat_minor": 5
}
